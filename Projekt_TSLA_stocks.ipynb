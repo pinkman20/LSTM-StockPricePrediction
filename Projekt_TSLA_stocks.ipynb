{
  "nbformat": 4,
  "nbformat_minor": 0,
  "metadata": {
    "colab": {
      "name": "Projekt_TSLA_stocks.ipynb",
      "provenance": [],
      "collapsed_sections": []
    },
    "kernelspec": {
      "name": "python3",
      "display_name": "Python 3"
    }
  },
  "cells": [
    {
      "cell_type": "code",
      "metadata": {
        "id": "er8biSW8dq_b",
        "colab_type": "code",
        "colab": {}
      },
      "source": [
        "#import libraries\n",
        "import math\n",
        "import pandas_datareader as web\n",
        "import numpy as np\n",
        "import pandas as pd\n",
        "from sklearn.preprocessing import MinMaxScaler\n",
        "from tensorflow.python.keras.layers import Dense, LSTM\n",
        "from tensorflow.python.keras import Sequential\n",
        "import matplotlib.pyplot as plt\n",
        "\n",
        "\n",
        "\n",
        "plt.style.use('seaborn')"
      ],
      "execution_count": 0,
      "outputs": []
    },
    {
      "cell_type": "code",
      "metadata": {
        "id": "8Xsd17G3dtfR",
        "colab_type": "code",
        "outputId": "c3280779-194f-457a-e0bb-c16ee1722104",
        "colab": {
          "base_uri": "https://localhost:8080/",
          "height": 450
        }
      },
      "source": [
        "#dataset\n",
        "\n",
        "df=web.DataReader(\"TSLA\", data_source=\"yahoo\", start=\"2010-06-29\", end=\"2020-02-03\")\n",
        "\n",
        "#prikaz podataka\n",
        "df"
      ],
      "execution_count": 8,
      "outputs": [
        {
          "output_type": "execute_result",
          "data": {
            "text/html": [
              "<div>\n",
              "<style scoped>\n",
              "    .dataframe tbody tr th:only-of-type {\n",
              "        vertical-align: middle;\n",
              "    }\n",
              "\n",
              "    .dataframe tbody tr th {\n",
              "        vertical-align: top;\n",
              "    }\n",
              "\n",
              "    .dataframe thead th {\n",
              "        text-align: right;\n",
              "    }\n",
              "</style>\n",
              "<table border=\"1\" class=\"dataframe\">\n",
              "  <thead>\n",
              "    <tr style=\"text-align: right;\">\n",
              "      <th></th>\n",
              "      <th>High</th>\n",
              "      <th>Low</th>\n",
              "      <th>Open</th>\n",
              "      <th>Close</th>\n",
              "      <th>Volume</th>\n",
              "      <th>Adj Close</th>\n",
              "    </tr>\n",
              "    <tr>\n",
              "      <th>Date</th>\n",
              "      <th></th>\n",
              "      <th></th>\n",
              "      <th></th>\n",
              "      <th></th>\n",
              "      <th></th>\n",
              "      <th></th>\n",
              "    </tr>\n",
              "  </thead>\n",
              "  <tbody>\n",
              "    <tr>\n",
              "      <th>2010-06-29</th>\n",
              "      <td>25.000000</td>\n",
              "      <td>17.540001</td>\n",
              "      <td>19.000000</td>\n",
              "      <td>23.889999</td>\n",
              "      <td>18766300</td>\n",
              "      <td>23.889999</td>\n",
              "    </tr>\n",
              "    <tr>\n",
              "      <th>2010-06-30</th>\n",
              "      <td>30.420000</td>\n",
              "      <td>23.299999</td>\n",
              "      <td>25.790001</td>\n",
              "      <td>23.830000</td>\n",
              "      <td>17187100</td>\n",
              "      <td>23.830000</td>\n",
              "    </tr>\n",
              "    <tr>\n",
              "      <th>2010-07-01</th>\n",
              "      <td>25.920000</td>\n",
              "      <td>20.270000</td>\n",
              "      <td>25.000000</td>\n",
              "      <td>21.959999</td>\n",
              "      <td>8218800</td>\n",
              "      <td>21.959999</td>\n",
              "    </tr>\n",
              "    <tr>\n",
              "      <th>2010-07-02</th>\n",
              "      <td>23.100000</td>\n",
              "      <td>18.709999</td>\n",
              "      <td>23.000000</td>\n",
              "      <td>19.200001</td>\n",
              "      <td>5139800</td>\n",
              "      <td>19.200001</td>\n",
              "    </tr>\n",
              "    <tr>\n",
              "      <th>2010-07-06</th>\n",
              "      <td>20.000000</td>\n",
              "      <td>15.830000</td>\n",
              "      <td>20.000000</td>\n",
              "      <td>16.110001</td>\n",
              "      <td>6866900</td>\n",
              "      <td>16.110001</td>\n",
              "    </tr>\n",
              "    <tr>\n",
              "      <th>...</th>\n",
              "      <td>...</td>\n",
              "      <td>...</td>\n",
              "      <td>...</td>\n",
              "      <td>...</td>\n",
              "      <td>...</td>\n",
              "      <td>...</td>\n",
              "    </tr>\n",
              "    <tr>\n",
              "      <th>2020-01-28</th>\n",
              "      <td>576.809998</td>\n",
              "      <td>558.080017</td>\n",
              "      <td>568.489990</td>\n",
              "      <td>566.900024</td>\n",
              "      <td>11788500</td>\n",
              "      <td>566.900024</td>\n",
              "    </tr>\n",
              "    <tr>\n",
              "      <th>2020-01-29</th>\n",
              "      <td>589.799988</td>\n",
              "      <td>567.429993</td>\n",
              "      <td>575.690002</td>\n",
              "      <td>580.989990</td>\n",
              "      <td>17801500</td>\n",
              "      <td>580.989990</td>\n",
              "    </tr>\n",
              "    <tr>\n",
              "      <th>2020-01-30</th>\n",
              "      <td>650.880005</td>\n",
              "      <td>618.000000</td>\n",
              "      <td>632.419983</td>\n",
              "      <td>640.809998</td>\n",
              "      <td>29005700</td>\n",
              "      <td>640.809998</td>\n",
              "    </tr>\n",
              "    <tr>\n",
              "      <th>2020-01-31</th>\n",
              "      <td>653.000000</td>\n",
              "      <td>632.520020</td>\n",
              "      <td>640.000000</td>\n",
              "      <td>650.570007</td>\n",
              "      <td>15719300</td>\n",
              "      <td>650.570007</td>\n",
              "    </tr>\n",
              "    <tr>\n",
              "      <th>2020-02-03</th>\n",
              "      <td>786.140015</td>\n",
              "      <td>673.520020</td>\n",
              "      <td>673.690002</td>\n",
              "      <td>780.000000</td>\n",
              "      <td>47233500</td>\n",
              "      <td>780.000000</td>\n",
              "    </tr>\n",
              "  </tbody>\n",
              "</table>\n",
              "<p>2416 rows × 6 columns</p>\n",
              "</div>"
            ],
            "text/plain": [
              "                  High         Low  ...    Volume   Adj Close\n",
              "Date                                ...                      \n",
              "2010-06-29   25.000000   17.540001  ...  18766300   23.889999\n",
              "2010-06-30   30.420000   23.299999  ...  17187100   23.830000\n",
              "2010-07-01   25.920000   20.270000  ...   8218800   21.959999\n",
              "2010-07-02   23.100000   18.709999  ...   5139800   19.200001\n",
              "2010-07-06   20.000000   15.830000  ...   6866900   16.110001\n",
              "...                ...         ...  ...       ...         ...\n",
              "2020-01-28  576.809998  558.080017  ...  11788500  566.900024\n",
              "2020-01-29  589.799988  567.429993  ...  17801500  580.989990\n",
              "2020-01-30  650.880005  618.000000  ...  29005700  640.809998\n",
              "2020-01-31  653.000000  632.520020  ...  15719300  650.570007\n",
              "2020-02-03  786.140015  673.520020  ...  47233500  780.000000\n",
              "\n",
              "[2416 rows x 6 columns]"
            ]
          },
          "metadata": {
            "tags": []
          },
          "execution_count": 8
        }
      ]
    },
    {
      "cell_type": "code",
      "metadata": {
        "id": "dOPNBOKDfYgz",
        "colab_type": "code",
        "outputId": "29aeae10-d019-47c6-e470-91c52cf45644",
        "colab": {
          "base_uri": "https://localhost:8080/",
          "height": 34
        }
      },
      "source": [
        "# Broj redaka i stupaca u datasetu\n",
        "df.shape"
      ],
      "execution_count": 9,
      "outputs": [
        {
          "output_type": "execute_result",
          "data": {
            "text/plain": [
              "(2416, 6)"
            ]
          },
          "metadata": {
            "tags": []
          },
          "execution_count": 9
        }
      ]
    },
    {
      "cell_type": "code",
      "metadata": {
        "id": "s1E8exUZgALS",
        "colab_type": "code",
        "outputId": "64a24bb5-4fc4-43e6-d1d7-b0b5f72eaf72",
        "colab": {
          "base_uri": "https://localhost:8080/",
          "height": 519
        }
      },
      "source": [
        "# Grafički prikaz dionica tesle iz dataseta za period 2010-2020\n",
        "plt.figure(figsize=(16,8))\n",
        "plt.title(\"Close price data\")\n",
        "plt.plot(df[\"Close\"])\n",
        "plt.xlabel(\"Date\",fontsize=18)\n",
        "plt.ylabel(\"(Close price USD ($)\",fontsize=18)\n",
        "plt.show()"
      ],
      "execution_count": 10,
      "outputs": [
        {
          "output_type": "display_data",
          "data": {
            "image/png": "[encoded data removed]",
            "text/plain": [
              "<Figure size 1152x576 with 1 Axes>"
            ]
          },
          "metadata": {
            "tags": []
          }
        }
      ]
    },
    {
      "cell_type": "code",
      "metadata": {
        "id": "3PPpfOtzgBIY",
        "colab_type": "code",
        "outputId": "b6061596-ad68-4f92-e571-db3476db33ea",
        "colab": {
          "base_uri": "https://localhost:8080/",
          "height": 34
        }
      },
      "source": [
        "#Prikaz \"Close\" podataka\n",
        "data=df.filter([\"Close\"])\n",
        "#convert u numpy array\n",
        "dataset=data.values\n",
        "#Broj redaka za treniranje\n",
        "training_data_len=math.ceil(len(dataset)*.8) #mathceil rounds up equation\n",
        "\n",
        "training_data_len"
      ],
      "execution_count": 11,
      "outputs": [
        {
          "output_type": "execute_result",
          "data": {
            "text/plain": [
              "1933"
            ]
          },
          "metadata": {
            "tags": []
          },
          "execution_count": 11
        }
      ]
    },
    {
      "cell_type": "code",
      "metadata": {
        "id": "VjQc9gwxlR-j",
        "colab_type": "code",
        "outputId": "18a9cbb5-4875-4ceb-c5ef-a3f898256b42",
        "colab": {
          "base_uri": "https://localhost:8080/",
          "height": 136
        }
      },
      "source": [
        "#Skaliranje podataka\n",
        "scaler = MinMaxScaler(feature_range=(0,1))\n",
        "scaled_data = scaler.fit_transform(dataset)\n",
        "\n",
        "scaled_data"
      ],
      "execution_count": 12,
      "outputs": [
        {
          "output_type": "execute_result",
          "data": {
            "text/plain": [
              "array([[0.01058623],\n",
              "       [0.01050772],\n",
              "       [0.00806072],\n",
              "       ...,\n",
              "       [0.81786181],\n",
              "       [0.83063335],\n",
              "       [1.        ]])"
            ]
          },
          "metadata": {
            "tags": []
          },
          "execution_count": 12
        }
      ]
    },
    {
      "cell_type": "code",
      "metadata": {
        "id": "Z1Hfa1dKmKSR",
        "colab_type": "code",
        "outputId": "2b1c5271-7a55-46c8-8640-8980d8acb7b3",
        "colab": {
          "base_uri": "https://localhost:8080/",
          "height": 680
        }
      },
      "source": [
        "#Training dataset i skalirani training data set\n",
        "\n",
        "train_data=scaled_data[0:training_data_len,:]\n",
        "#Podjela podataka u x i y listu\n",
        "x_train = []\n",
        "y_train = []\n",
        "\n",
        "for i in range(60,len(train_data)):\n",
        "  x_train.append(train_data[i-60:i, 0]) # will contain 60 values\n",
        "  y_train.append(train_data[i,0]) # will contain 61st value\n",
        "  if i<= 61:\n",
        "    print(x_train)\n",
        "    print(y_train)\n",
        "    print()"
      ],
      "execution_count": 13,
      "outputs": [
        {
          "output_type": "stream",
          "text": [
            "[array([0.01058623, 0.01050772, 0.00806072, 0.0044491 , 0.00040565,\n",
            "       0.        , 0.0021722 , 0.00209369, 0.0016357 , 0.00306202,\n",
            "       0.00528657, 0.005352  , 0.00633342, 0.00799529, 0.00588851,\n",
            "       0.00578383, 0.0068045 , 0.00718398, 0.00673907, 0.00621565,\n",
            "       0.0064381 , 0.00595394, 0.00541743, 0.00669982, 0.00804763,\n",
            "       0.00714473, 0.0060848 , 0.00495943, 0.00497252, 0.00422664,\n",
            "       0.00274797, 0.0023554 , 0.00329757, 0.0038995 , 0.00438367,\n",
            "       0.00388642, 0.00391259, 0.00431824, 0.00566605, 0.0044491 ,\n",
            "       0.00536509, 0.0051688 , 0.00510338, 0.00532583, 0.00481549,\n",
            "       0.0060848 , 0.00688301, 0.00686993, 0.00620257, 0.00667364,\n",
            "       0.00642502, 0.0057184 , 0.0064381 , 0.00696153, 0.00808689,\n",
            "       0.00672599, 0.00579691, 0.00688301, 0.00650353, 0.00532583])]\n",
            "[0.00492017701667884]\n",
            "\n",
            "[array([0.01058623, 0.01050772, 0.00806072, 0.0044491 , 0.00040565,\n",
            "       0.        , 0.0021722 , 0.00209369, 0.0016357 , 0.00306202,\n",
            "       0.00528657, 0.005352  , 0.00633342, 0.00799529, 0.00588851,\n",
            "       0.00578383, 0.0068045 , 0.00718398, 0.00673907, 0.00621565,\n",
            "       0.0064381 , 0.00595394, 0.00541743, 0.00669982, 0.00804763,\n",
            "       0.00714473, 0.0060848 , 0.00495943, 0.00497252, 0.00422664,\n",
            "       0.00274797, 0.0023554 , 0.00329757, 0.0038995 , 0.00438367,\n",
            "       0.00388642, 0.00391259, 0.00431824, 0.00566605, 0.0044491 ,\n",
            "       0.00536509, 0.0051688 , 0.00510338, 0.00532583, 0.00481549,\n",
            "       0.0060848 , 0.00688301, 0.00686993, 0.00620257, 0.00667364,\n",
            "       0.00642502, 0.0057184 , 0.0064381 , 0.00696153, 0.00808689,\n",
            "       0.00672599, 0.00579691, 0.00688301, 0.00650353, 0.00532583]), array([0.01050772, 0.00806072, 0.0044491 , 0.00040565, 0.        ,\n",
            "       0.0021722 , 0.00209369, 0.0016357 , 0.00306202, 0.00528657,\n",
            "       0.005352  , 0.00633342, 0.00799529, 0.00588851, 0.00578383,\n",
            "       0.0068045 , 0.00718398, 0.00673907, 0.00621565, 0.0064381 ,\n",
            "       0.00595394, 0.00541743, 0.00669982, 0.00804763, 0.00714473,\n",
            "       0.0060848 , 0.00495943, 0.00497252, 0.00422664, 0.00274797,\n",
            "       0.0023554 , 0.00329757, 0.0038995 , 0.00438367, 0.00388642,\n",
            "       0.00391259, 0.00431824, 0.00566605, 0.0044491 , 0.00536509,\n",
            "       0.0051688 , 0.00510338, 0.00532583, 0.00481549, 0.0060848 ,\n",
            "       0.00688301, 0.00686993, 0.00620257, 0.00667364, 0.00642502,\n",
            "       0.0057184 , 0.0064381 , 0.00696153, 0.00808689, 0.00672599,\n",
            "       0.00579691, 0.00688301, 0.00650353, 0.00532583, 0.00492018])]\n",
            "[0.00492017701667884, 0.005626799518199541]\n",
            "\n"
          ],
          "name": "stdout"
        }
      ]
    },
    {
      "cell_type": "code",
      "metadata": {
        "id": "-1sGRiEKnt98",
        "colab_type": "code",
        "colab": {}
      },
      "source": [
        "\n",
        "#Convert x_train i y_train u numpy array tako da se mogu koristiti za treniranje u LSTM modelu\n",
        "x_train, y_train = np.array(x_train),np.array(y_train)"
      ],
      "execution_count": 0,
      "outputs": []
    },
    {
      "cell_type": "code",
      "metadata": {
        "id": "ozdlkHwmobdy",
        "colab_type": "code",
        "outputId": "75b718b3-baca-4da7-b141-489e61780eb5",
        "colab": {
          "base_uri": "https://localhost:8080/",
          "height": 34
        }
      },
      "source": [
        "#Reshape the data - LSTM Network zahtjeva 3 dimensional shape, not 2D\n",
        "x_train = np.reshape(x_train, (x_train.shape[0], x_train.shape[1], 1))\n",
        "x_train.shape"
      ],
      "execution_count": 15,
      "outputs": [
        {
          "output_type": "execute_result",
          "data": {
            "text/plain": [
              "(1873, 60, 1)"
            ]
          },
          "metadata": {
            "tags": []
          },
          "execution_count": 15
        }
      ]
    },
    {
      "cell_type": "code",
      "metadata": {
        "id": "6thRtTKZomyS",
        "colab_type": "code",
        "colab": {}
      },
      "source": [
        "#LSTM model\n",
        "model = Sequential()\n",
        "model.add(LSTM(50, return_sequences=True, input_shape= (x_train.shape[1], 1)))\n",
        "model.add(LSTM(50, return_sequences= False))\n",
        "model.add(Dense(25))\n",
        "model.add(Dense(1))"
      ],
      "execution_count": 0,
      "outputs": []
    },
    {
      "cell_type": "code",
      "metadata": {
        "id": "pzmsU1HQpy1z",
        "colab_type": "code",
        "colab": {}
      },
      "source": [
        " #compile \n",
        " model.compile(optimizer=\"adam\",loss=\"mean_squared_error\")"
      ],
      "execution_count": 0,
      "outputs": []
    },
    {
      "cell_type": "code",
      "metadata": {
        "id": "lZ4XyAuXsLl0",
        "colab_type": "code",
        "outputId": "b2c39b94-dbfe-4604-d3ba-f6e73c45b50a",
        "colab": {
          "base_uri": "https://localhost:8080/",
          "height": 51
        }
      },
      "source": [
        " #Train the model\n",
        " model.fit(x_train,y_train,batch_size=1, epochs=1)"
      ],
      "execution_count": 18,
      "outputs": [
        {
          "output_type": "stream",
          "text": [
            "1873/1873 [==============================] - 41s 22ms/step - loss: 5.7501e-04\n"
          ],
          "name": "stdout"
        },
        {
          "output_type": "execute_result",
          "data": {
            "text/plain": [
              "<tensorflow.python.keras.callbacks.History at 0x7f5be1244d30>"
            ]
          },
          "metadata": {
            "tags": []
          },
          "execution_count": 18
        }
      ]
    },
    {
      "cell_type": "code",
      "metadata": {
        "id": "mnOIlIbLsgPb",
        "colab_type": "code",
        "colab": {}
      },
      "source": [
        "#Testing data set\n",
        "#Create a new array containing scaled values from index 1543 to 2002 / podaci potrebni za treniranje\n",
        "test_data = scaled_data[training_data_len - 60: , :]\n",
        "#dataset x_test and y_test\n",
        "x_test = []\n",
        "y_test = dataset[training_data_len:, :]\n",
        "for i in range(60, len(test_data)):\n",
        "  x_test.append(test_data[i-60:i, 0])\n"
      ],
      "execution_count": 0,
      "outputs": []
    },
    {
      "cell_type": "code",
      "metadata": {
        "id": "Q9a7t-r8uV0L",
        "colab_type": "code",
        "colab": {}
      },
      "source": [
        "#konvertiranje u numpy array za potrebe LSTM-a\n",
        "x_test = np.array(x_test)"
      ],
      "execution_count": 0,
      "outputs": []
    },
    {
      "cell_type": "code",
      "metadata": {
        "id": "vOjZHJfauh1j",
        "colab_type": "code",
        "colab": {}
      },
      "source": [
        "#Reshape data tako da bude 3D\n",
        "x_test = np.reshape(x_test, (x_test.shape[0], x_test.shape[1], 1 ))"
      ],
      "execution_count": 0,
      "outputs": []
    },
    {
      "cell_type": "code",
      "metadata": {
        "id": "qyDuarDDu7-6",
        "colab_type": "code",
        "colab": {}
      },
      "source": [
        "#Predviđena cijena\n",
        "predictions = model.predict(x_test)\n",
        "predictions = scaler.inverse_transform(predictions)\n"
      ],
      "execution_count": 0,
      "outputs": []
    },
    {
      "cell_type": "code",
      "metadata": {
        "id": "AckPNTZ3wPdr",
        "colab_type": "code",
        "outputId": "ea60df04-10c8-43e8-bc0e-857fec2a5e84",
        "colab": {
          "base_uri": "https://localhost:8080/",
          "height": 34
        }
      },
      "source": [
        "#Get the root mean squared error (RMSE) - standardna deviacija\n",
        "rmse=np.sqrt(np.mean(((predictions- y_test)**2)))\n",
        "rmse"
      ],
      "execution_count": 23,
      "outputs": [
        {
          "output_type": "execute_result",
          "data": {
            "text/plain": [
              "20.796420548727042"
            ]
          },
          "metadata": {
            "tags": []
          },
          "execution_count": 23
        }
      ]
    },
    {
      "cell_type": "code",
      "metadata": {
        "id": "YOLLCOyNwlBj",
        "colab_type": "code",
        "outputId": "a203d150-3e13-47f1-d1c3-3f26c44b9a95",
        "colab": {
          "base_uri": "https://localhost:8080/",
          "height": 621
        }
      },
      "source": [
        "#Plot\n",
        "train = data[:training_data_len]\n",
        "valid = data[training_data_len:]\n",
        "valid['Predictions'] = predictions\n",
        "\n",
        "plt.figure(figsize=(16,8))\n",
        "plt.title('Model')\n",
        "plt.xlabel('Date', fontsize=18)\n",
        "plt.ylabel('Close Price USD ($)', fontsize=18)\n",
        "plt.plot(train['Close'])\n",
        "plt.plot(valid[['Close', 'Predictions']])\n",
        "plt.legend(['Train', 'Real', 'Predictions'], loc='lower right')\n",
        "plt.show()"
      ],
      "execution_count": 24,
      "outputs": [
        {
          "output_type": "stream",
          "text": [
            "/usr/local/lib/python3.6/dist-packages/ipykernel_launcher.py:3: SettingWithCopyWarning: \n",
            "A value is trying to be set on a copy of a slice from a DataFrame.\n",
            "Try using .loc[row_indexer,col_indexer] = value instead\n",
            "\n",
            "See the caveats in the documentation: https://pandas.pydata.org/pandas-docs/stable/user_guide/indexing.html#returning-a-view-versus-a-copy\n",
            "  This is separate from the ipykernel package so we can avoid doing imports until\n"
          ],
          "name": "stderr"
        },
        {
          "output_type": "display_data",
          "data": {
            "image/png": "[encoded data removed]",
            "text/plain": [
              "<Figure size 1152x576 with 1 Axes>"
            ]
          },
          "metadata": {
            "tags": []
          }
        }
      ]
    },
    {
      "cell_type": "code",
      "metadata": {
        "id": "F-FfTo0zyXls",
        "colab_type": "code",
        "outputId": "710b623d-a87a-4c29-f237-274951794053",
        "colab": {
          "base_uri": "https://localhost:8080/",
          "height": 450
        }
      },
      "source": [
        "#Stvarna i predviđena cijena\n",
        "valid"
      ],
      "execution_count": 25,
      "outputs": [
        {
          "output_type": "execute_result",
          "data": {
            "text/html": [
              "<div>\n",
              "<style scoped>\n",
              "    .dataframe tbody tr th:only-of-type {\n",
              "        vertical-align: middle;\n",
              "    }\n",
              "\n",
              "    .dataframe tbody tr th {\n",
              "        vertical-align: top;\n",
              "    }\n",
              "\n",
              "    .dataframe thead th {\n",
              "        text-align: right;\n",
              "    }\n",
              "</style>\n",
              "<table border=\"1\" class=\"dataframe\">\n",
              "  <thead>\n",
              "    <tr style=\"text-align: right;\">\n",
              "      <th></th>\n",
              "      <th>Close</th>\n",
              "      <th>Predictions</th>\n",
              "    </tr>\n",
              "    <tr>\n",
              "      <th>Date</th>\n",
              "      <th></th>\n",
              "      <th></th>\n",
              "    </tr>\n",
              "  </thead>\n",
              "  <tbody>\n",
              "    <tr>\n",
              "      <th>2018-03-05</th>\n",
              "      <td>333.350006</td>\n",
              "      <td>342.980011</td>\n",
              "    </tr>\n",
              "    <tr>\n",
              "      <th>2018-03-06</th>\n",
              "      <td>328.200012</td>\n",
              "      <td>341.022797</td>\n",
              "    </tr>\n",
              "    <tr>\n",
              "      <th>2018-03-07</th>\n",
              "      <td>332.299988</td>\n",
              "      <td>338.511230</td>\n",
              "    </tr>\n",
              "    <tr>\n",
              "      <th>2018-03-08</th>\n",
              "      <td>329.100006</td>\n",
              "      <td>336.577332</td>\n",
              "    </tr>\n",
              "    <tr>\n",
              "      <th>2018-03-09</th>\n",
              "      <td>327.170013</td>\n",
              "      <td>334.736084</td>\n",
              "    </tr>\n",
              "    <tr>\n",
              "      <th>...</th>\n",
              "      <td>...</td>\n",
              "      <td>...</td>\n",
              "    </tr>\n",
              "    <tr>\n",
              "      <th>2020-01-28</th>\n",
              "      <td>566.900024</td>\n",
              "      <td>545.000732</td>\n",
              "    </tr>\n",
              "    <tr>\n",
              "      <th>2020-01-29</th>\n",
              "      <td>580.989990</td>\n",
              "      <td>549.442139</td>\n",
              "    </tr>\n",
              "    <tr>\n",
              "      <th>2020-01-30</th>\n",
              "      <td>640.809998</td>\n",
              "      <td>554.666443</td>\n",
              "    </tr>\n",
              "    <tr>\n",
              "      <th>2020-01-31</th>\n",
              "      <td>650.570007</td>\n",
              "      <td>567.216553</td>\n",
              "    </tr>\n",
              "    <tr>\n",
              "      <th>2020-02-03</th>\n",
              "      <td>780.000000</td>\n",
              "      <td>582.372681</td>\n",
              "    </tr>\n",
              "  </tbody>\n",
              "</table>\n",
              "<p>483 rows × 2 columns</p>\n",
              "</div>"
            ],
            "text/plain": [
              "                 Close  Predictions\n",
              "Date                               \n",
              "2018-03-05  333.350006   342.980011\n",
              "2018-03-06  328.200012   341.022797\n",
              "2018-03-07  332.299988   338.511230\n",
              "2018-03-08  329.100006   336.577332\n",
              "2018-03-09  327.170013   334.736084\n",
              "...                ...          ...\n",
              "2020-01-28  566.900024   545.000732\n",
              "2020-01-29  580.989990   549.442139\n",
              "2020-01-30  640.809998   554.666443\n",
              "2020-01-31  650.570007   567.216553\n",
              "2020-02-03  780.000000   582.372681\n",
              "\n",
              "[483 rows x 2 columns]"
            ]
          },
          "metadata": {
            "tags": []
          },
          "execution_count": 25
        }
      ]
    }
  ]
}